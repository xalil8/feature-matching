{
 "cells": [
  {
   "cell_type": "code",
   "execution_count": 10,
   "metadata": {},
   "outputs": [],
   "source": [
    "import yaml\n",
    "import os\n",
    "\n",
    "# open the .yaml file\n",
    "with open(\"dataset/data.yaml\", 'r') as file:\n",
    "    # load the contents of the file into a Python object\n",
    "    data = yaml.load(file, Loader=yaml.FullLoader)\n",
    "\n",
    "# extract the names from the data\n",
    "class_yaml = data[\"names\"]\n"
   ]
  },
  {
   "cell_type": "code",
   "execution_count": 11,
   "metadata": {},
   "outputs": [],
   "source": [
    "import os\n",
    "\n",
    "directory = 'dataset/train/images'\n",
    "class_names = set()\n",
    "\n",
    "for filename in os.listdir(directory):\n",
    "    if filename.endswith('.jpg') or filename.endswith('.png'):\n",
    "        class_name = filename.split('_')[0]\n",
    "        class_names.add(class_name)\n",
    "\n",
    "class_names = list(class_names)\n",
    "class_images = sorted(class_names)"
   ]
  },
  {
   "cell_type": "code",
   "execution_count": null,
   "metadata": {},
   "outputs": [],
   "source": [
    "cropped_classes = list()\n",
    "\n",
    "\n",
    "directory = 'dataset/cropped'\n",
    "class_names = set()\n",
    "\n",
    "for filename in os.listdir(directory):\n",
    "    if filename.endswith('.jpg') or filename.endswith('.png'):\n",
    "        class_name = filename.split('_')[0]\n",
    "        class_names.add(class_name)\n",
    "\n",
    "class_names = list(class_names)\n",
    "class_images = sorted(class_names)"
   ]
  },
  {
   "cell_type": "code",
   "execution_count": 1,
   "metadata": {},
   "outputs": [],
   "source": [
    "\n",
    "\n",
    "import yaml\n",
    "import os\n",
    "\n",
    "def make_dict():\n",
    "    image_dict = {}\n",
    "    image_path = 'dataset/train/images'\n",
    "    \n",
    "    class_names = set()\n",
    "\n",
    "    for filename in os.listdir(image_path):\n",
    "        if filename.endswith('.jpg') or filename.endswith('.png'):\n",
    "            class_name = filename.split('_')[0]\n",
    "            class_names.add(class_name)\n",
    "\n",
    "    class_names = list(class_names)\n",
    "    class_names_sorted = sorted(class_names)\n",
    "\n",
    "\n",
    "    for my_key in class_names_sorted:\n",
    "        valuelist = []\n",
    "        for old_value in os.listdir(image_path):\n",
    "            new_value = old_value.split('_')[0]\n",
    "            #print(new_value)\n",
    "            if my_key == new_value:\n",
    "                adjustad_name = old_value.replace(\".jpg\", \"\")\n",
    "                valuelist.append(adjustad_name)\n",
    "                #print(my_key,adjustad_name)\n",
    "        \n",
    "        image_dict.update({my_key:valuelist})\n",
    "    \n",
    "    return image_dict\n"
   ]
  },
  {
   "cell_type": "code",
   "execution_count": 2,
   "metadata": {},
   "outputs": [],
   "source": [
    "my_dict = make_dict() "
   ]
  },
  {
   "cell_type": "code",
   "execution_count": null,
   "metadata": {},
   "outputs": [],
   "source": [
    "import cv2\n",
    "import os \n",
    "import yaml\n",
    "\n",
    "# specify the path to your image folder and txt folder\n",
    "img_folder_path = 'dataset/train/images'\n",
    "txt_folder_path = 'dataset/train/labels'\n",
    "\n",
    "# specify the path to the folder where you want to save the cropped images\n",
    "if not os.path.exists('dataset/cropped'):\n",
    "    # create the folder if it doesn't exist\n",
    "    os.makedirs('dataset/cropped')\n",
    "    cropped_folder_path = 'dataset/cropped'\n",
    "else:\n",
    "    cropped_folder_path = 'dataset/cropped'\n"
   ]
  },
  {
   "cell_type": "code",
   "execution_count": null,
   "metadata": {},
   "outputs": [],
   "source": [
    "# open the .yaml file\n",
    "with open(\"dataset/data.yaml\", 'r') as file:\n",
    "    # load the contents of the file into a Python object\n",
    "    data = yaml.load(file, Loader=yaml.FullLoader)\n",
    "\n",
    "# extract the names from the data\n",
    "class_names = data[\"names\"]\n"
   ]
  },
  {
   "cell_type": "code",
   "execution_count": null,
   "metadata": {},
   "outputs": [],
   "source": [
    "\n",
    "counter = 0\n",
    "\n",
    "# loop through all the images in the image folder\n",
    "for img_name in os.listdir(img_folder_path):\n",
    "    counter+=1\n",
    "    print(counter)\n",
    "    # construct the full path to the image and txt file\n",
    "    img_path = os.path.join(img_folder_path, img_name)\n",
    "    txt_path = os.path.join(txt_folder_path, img_name.replace('.jpg', '.txt'))\n",
    "    \n",
    "    # read the image and the txt file\n",
    "    img = cv2.imread(img_path)\n",
    "    try:\n",
    "        with open(txt_path) as f:\n",
    "            lines = f.read().strip().split('\\n')\n",
    "        \n",
    "        for line in lines:\n",
    "            # split the line by space to separate class name and coordinates\n",
    "            class_name, x, y, w, h = line.strip().split()\n",
    "            \n",
    "            label_name = class_names[int(class_name)]\n",
    "            x, y, w, h = float(x), float(y), float(w), float(h)\n",
    "            x1, y1, x2, y2 = int((x-w/2) * 1280), int((y-h/2) * 720), int((x+w/2) * 1280), int((y+h/2) * 720)\n",
    "\n",
    "            #print(x1,y1,x2,y2)\n",
    "            # crop the image using the coordinates\n",
    "            cropped_img = img[y1:y2, x1:x2]\n",
    "\n",
    "            # construct the full path to the save the cropped image\n",
    "            #cropped_img_path = os.path.join(cropped_folder_path, class_name+img_name)\n",
    "            cropped_img_path = os.path.join(cropped_folder_path, f\"{label_name}_{counter}.jpg\")\n",
    "\n",
    "            # save the cropped image\n",
    "            cv2.imwrite(cropped_img_path, cropped_img)\n",
    "\n",
    "    except ValueError:\n",
    "        print(\"value error E$$EQ\")\n",
    "        continue"
   ]
  }
 ],
 "metadata": {
  "kernelspec": {
   "display_name": "Python 3",
   "language": "python",
   "name": "python3"
  },
  "language_info": {
   "codemirror_mode": {
    "name": "ipython",
    "version": 3
   },
   "file_extension": ".py",
   "mimetype": "text/x-python",
   "name": "python",
   "nbconvert_exporter": "python",
   "pygments_lexer": "ipython3",
   "version": "3.8.10 (tags/v3.8.10:3d8993a, May  3 2021, 11:48:03) [MSC v.1928 64 bit (AMD64)]"
  },
  "orig_nbformat": 4,
  "vscode": {
   "interpreter": {
    "hash": "570feb405e2e27c949193ac68f46852414290d515b0ba6e5d90d076ed2284471"
   }
  }
 },
 "nbformat": 4,
 "nbformat_minor": 2
}
