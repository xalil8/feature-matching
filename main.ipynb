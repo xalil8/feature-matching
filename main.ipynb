{
 "cells": [
  {
   "cell_type": "code",
   "execution_count": null,
   "metadata": {},
   "outputs": [],
   "source": [
    "import yaml\n",
    "import os\n",
    "\n",
    "# open the .yaml file\n",
    "with open(\"dataset/data.yaml\", 'r') as file:\n",
    "    # load the contents of the file into a Python object\n",
    "    data = yaml.load(file, Loader=yaml.FullLoader)\n",
    "\n",
    "# extract the names from the data\n",
    "class_names = data[\"names\"]\n"
   ]
  },
  {
   "cell_type": "code",
   "execution_count": 21,
   "metadata": {},
   "outputs": [],
   "source": [
    "# specify the path to your image folder and txt folder\n",
    "img_folder_path = 'dataset/train/images'\n",
    "txt_folder_path = 'dataset/train/labels'\n",
    "\n",
    "# specify the path to the folder where you want to save the cropped images\n",
    "if not os.path.exists('dataset/cropped'):\n",
    "    # create the folder if it doesn't exist\n",
    "    os.makedirs('dataset/cropped')\n",
    "    cropped_folder_path = 'dataset/cropped'\n",
    "else:\n",
    "    cropped_folder_path = 'dataset/cropped'\n",
    "\n",
    "    "
   ]
  },
  {
   "cell_type": "code",
   "execution_count": null,
   "metadata": {},
   "outputs": [],
   "source": [
    "import cv2\n",
    "counter = 0\n",
    "\n",
    "# loop through all the images in the image folder\n",
    "for img_name in os.listdir(img_folder_path):\n",
    "    counter+=1\n",
    "    print(counter)\n",
    "    # construct the full path to the image and txt file\n",
    "    img_path = os.path.join(img_folder_path, img_name)\n",
    "    txt_path = os.path.join(txt_folder_path, img_name.replace('.jpg', '.txt'))\n",
    "    \n",
    "    # read the image and the txt file\n",
    "    img = cv2.imread(img_path)\n",
    "    try:\n",
    "        with open(txt_path) as f:\n",
    "            lines = f.read().strip().split('\\n')\n",
    "        \n",
    "        for line in lines:\n",
    "            # split the line by space to separate class name and coordinates\n",
    "            class_name, x, y, w, h = line.strip().split()\n",
    "            \n",
    "            label_name = class_names[int(class_name)]\n",
    "            x, y, w, h = float(x), float(y), float(w), float(h)\n",
    "            x1, y1, x2, y2 = int((x-w/2) * 1280), int((y-h/2) * 720), int((x+w/2) * 1280), int((y+h/2) * 720)\n",
    "\n",
    "            #print(x1,y1,x2,y2)\n",
    "            # crop the image using the coordinates\n",
    "            cropped_img = img[y1:y2, x1:x2]\n",
    "\n",
    "            # construct the full path to the save the cropped image\n",
    "            #cropped_img_path = os.path.join(cropped_folder_path, class_name+img_name)\n",
    "            cropped_img_path = os.path.join(cropped_folder_path, f\"{label_name}_{counter}.jpg\")\n",
    "\n",
    "            # save the cropped image\n",
    "            cv2.imwrite(cropped_img_path, cropped_img)\n",
    "\n",
    "    except ValueError:\n",
    "        print(\"value error E$$EQ\")\n",
    "        continue"
   ]
  },
  {
   "cell_type": "code",
   "execution_count": null,
   "metadata": {},
   "outputs": [],
   "source": [
    "import os\n",
    "import shutil\n",
    "# Path to the directory containing the pictures\n",
    "picture_path = \"cropped2\"\n",
    "\n",
    "\n",
    "# Path to the directory where the class folders will be created\n",
    "class_folder_path = \"new_classes\"\n",
    "\n",
    "# Loop through the class names\n",
    "for class_name in class_names:\n",
    "    for img_name in os.listdir(img_folder_path):\n",
    "        if img_name\n",
    "    "
   ]
  },
  {
   "cell_type": "code",
   "execution_count": null,
   "metadata": {},
   "outputs": [],
   "source": [
    "\n",
    "list1 = [\"img1\",\"img2\"]\n",
    "list2 = [\"img1\",\"img2\",\"img3\"]\n",
    "\n",
    "images = {}\n",
    "\n",
    "\n"
   ]
  },
  {
   "cell_type": "code",
   "execution_count": null,
   "metadata": {},
   "outputs": [],
   "source": [
    "images.update({\"a\":list1})"
   ]
  },
  {
   "cell_type": "code",
   "execution_count": null,
   "metadata": {},
   "outputs": [],
   "source": [
    "images.update({\"b\":list2})"
   ]
  },
  {
   "cell_type": "code",
   "execution_count": null,
   "metadata": {},
   "outputs": [],
   "source": [
    "images"
   ]
  },
  {
   "cell_type": "code",
   "execution_count": null,
   "metadata": {},
   "outputs": [],
   "source": [
    "import glob\n",
    "\n",
    "# specify the folder path\n",
    "folder_path = \"images\"\n",
    "\n",
    "#create empty dictionary\n",
    "images = {}\n",
    "\n",
    "#list of class names\n",
    "\n",
    "\n",
    "#iterate through class names\n",
    "for class_name in class_names:\n",
    "    # get a list of all files in the folder that start with class name and end with .jpg\n",
    "    file_list = glob.glob(folder_path + '/'+class_name+'_*'+'.jpg')\n",
    "    #create empty list\n",
    "    image_names = []\n",
    "    # iterate over the list of files\n",
    "    for file_path in file_list:\n",
    "        #get the file name\n",
    "        file_name = os.path.basename(file_path)\n",
    "        #remove the .jpg extension\n",
    "        image_name = file_name.split(\".\")[0]\n",
    "        image_names.append(image_name)\n",
    "    images[class_name] = image_names"
   ]
  }
 ],
 "metadata": {
  "kernelspec": {
   "display_name": "Python 3",
   "language": "python",
   "name": "python3"
  },
  "language_info": {
   "codemirror_mode": {
    "name": "ipython",
    "version": 3
   },
   "file_extension": ".py",
   "mimetype": "text/x-python",
   "name": "python",
   "nbconvert_exporter": "python",
   "pygments_lexer": "ipython3",
   "version": "3.8.10 (tags/v3.8.10:3d8993a, May  3 2021, 11:48:03) [MSC v.1928 64 bit (AMD64)]"
  },
  "orig_nbformat": 4,
  "vscode": {
   "interpreter": {
    "hash": "570feb405e2e27c949193ac68f46852414290d515b0ba6e5d90d076ed2284471"
   }
  }
 },
 "nbformat": 4,
 "nbformat_minor": 2
}
