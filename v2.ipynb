{
 "cells": [
  {
   "attachments": {},
   "cell_type": "markdown",
   "metadata": {},
   "source": [
    "this function create dictionary to track image names"
   ]
  },
  {
   "cell_type": "code",
   "execution_count": 1,
   "metadata": {},
   "outputs": [],
   "source": [
    "import yaml\n",
    "import os\n",
    "\n",
    "def make_dict():\n",
    "    image_dict = {}\n",
    "    \n",
    "    image_path = 'dataset/train/images'\n",
    "    \n",
    "    class_names = set()\n",
    "\n",
    "    for filename in os.listdir(image_path):\n",
    "        if filename.endswith('.jpg') or filename.endswith('.png'):\n",
    "            class_name = filename.split('_')[0]\n",
    "            class_names.add(class_name)\n",
    "\n",
    "    class_names = list(class_names)\n",
    "    class_names_sorted = sorted(class_names)\n",
    "\n",
    "\n",
    "    for my_key in class_names_sorted:\n",
    "        valuelist = []\n",
    "        for old_value in os.listdir(image_path):\n",
    "            new_value = old_value.split('_')[0]\n",
    "            #print(new_value)\n",
    "            if my_key == new_value:\n",
    "                adjustad_name = old_value.replace(\".jpg\", \"\")\n",
    "                valuelist.append(adjustad_name)\n",
    "                #print(my_key,adjustad_name)\n",
    "        \n",
    "        image_dict.update({my_key:valuelist})\n",
    "    \n",
    "    return image_dict\n"
   ]
  },
  {
   "cell_type": "code",
   "execution_count": null,
   "metadata": {},
   "outputs": [],
   "source": [
    "import json \n",
    "old_dict = make_dict()\n",
    "with open('old_images/data.json', 'w') as outfile:\n",
    "    # write the dictionary to the file as a json string\n",
    "    json.dump(old_dict, outfile)"
   ]
  },
  {
   "attachments": {},
   "cell_type": "markdown",
   "metadata": {},
   "source": [
    "START FROM HERE"
   ]
  },
  {
   "cell_type": "code",
   "execution_count": 2,
   "metadata": {},
   "outputs": [],
   "source": [
    "import json \n",
    "try:    \n",
    "    with open('old_images/data.json', 'r') as infile:\n",
    "        # load the json string from the file and convert it to a dictionary\n",
    "        old_dict = json.load(infile)\n",
    "except:\n",
    "    old_dict = dict()\n"
   ]
  },
  {
   "cell_type": "code",
   "execution_count": null,
   "metadata": {},
   "outputs": [],
   "source": [
    "old_dict"
   ]
  },
  {
   "cell_type": "code",
   "execution_count": 3,
   "metadata": {},
   "outputs": [],
   "source": [
    "new_dict =  make_dict()"
   ]
  },
  {
   "cell_type": "code",
   "execution_count": null,
   "metadata": {},
   "outputs": [],
   "source": [
    "new_dict"
   ]
  },
  {
   "cell_type": "code",
   "execution_count": 4,
   "metadata": {},
   "outputs": [],
   "source": [
    "new_classes = []\n",
    "for i in new_dict:\n",
    "    if i not in old_dict:\n",
    "        new_classes.append(i)"
   ]
  },
  {
   "cell_type": "code",
   "execution_count": 5,
   "metadata": {},
   "outputs": [
    {
     "data": {
      "text/plain": [
       "['a101',\n",
       " 'abercrombie-and-fitch',\n",
       " 'abn-amro-bank',\n",
       " 'absa-barclays-africa-group']"
      ]
     },
     "execution_count": 5,
     "metadata": {},
     "output_type": "execute_result"
    }
   ],
   "source": [
    "new_classes"
   ]
  },
  {
   "cell_type": "code",
   "execution_count": 6,
   "metadata": {},
   "outputs": [],
   "source": [
    "import yaml\n",
    "\n",
    "with open(\"dataset/data.yaml\", 'r') as file:\n",
    "    # load the contents of the file into a Python object\n",
    "    data = yaml.load(file, Loader=yaml.FullLoader)\n",
    "\n",
    "# extract the names from the data\n",
    "class_yaml = data[\"names\"]"
   ]
  },
  {
   "cell_type": "code",
   "execution_count": null,
   "metadata": {},
   "outputs": [],
   "source": [
    "import cv2\n",
    "img_folder_path = \"dataset/train/images/\"\n",
    "txt_folder_path = \"dataset/train/labels/\"\n",
    "cropped_folder_path = \"cropped/\"\n",
    "class_names = class_yaml\n",
    "\n",
    "counter = 0\n",
    "for class_name in new_classes:\n",
    "    #print(class_name)\n",
    "    for names in new_dict[class_name]:\n",
    "        counter +=1\n",
    "        img_path = os.path.join(img_folder_path, names+\".jpg\")\n",
    "        txt_path = os.path.join(txt_folder_path, names+\".txt\")\n",
    "        \n",
    "        img = cv2.imread(img_path)\n",
    "        try:\n",
    "            with open(txt_path) as f:\n",
    "                lines = f.read().strip().split('\\n')\n",
    "            \n",
    "            for line in lines:\n",
    "                print(counter)\n",
    "\n",
    "                # split the line by space to separate class name and coordinates\n",
    "                class_name, x, y, w, h = line.strip().split()\n",
    "                \n",
    "                label_name = class_names[int(class_name)]\n",
    "                x, y, w, h = float(x), float(y), float(w), float(h)\n",
    "                x1, y1, x2, y2 = int((x-w/2) * 1280), int((y-h/2) * 720), int((x+w/2) * 1280), int((y+h/2) * 720)\n",
    "\n",
    "                #print(x1,y1,x2,y2)\n",
    "                # crop the image using the coordinates\n",
    "                cropped_img = img[y1:y2, x1:x2]\n",
    "\n",
    "                # construct the full path to the save the cropped image\n",
    "                #cropped_img_path = os.path.join(cropped_folder_path, class_name+img_name)\n",
    "                cropped_img_path = os.path.join(cropped_folder_path, f\"{label_name}_{counter}.jpg\")\n",
    "\n",
    "                # save the cropped image\n",
    "                cv2.imwrite(cropped_img_path, cropped_img)\n",
    "\n",
    "        except ValueError:\n",
    "            print(\"value error E$$EQ\")\n",
    "            continue"
   ]
  },
  {
   "cell_type": "code",
   "execution_count": null,
   "metadata": {},
   "outputs": [],
   "source": [
    "\n",
    "counter = 0\n",
    "\n",
    "# loop through all the images in the image folder\n",
    "for img_name in os.listdir(img_folder_path):\n",
    "    counter+=1\n",
    "    print(counter)\n",
    "    # construct the full path to the image and txt file\n",
    "    img_path = os.path.join(img_folder_path, img_name)\n",
    "    txt_path = os.path.join(txt_folder_path, img_name.replace('.jpg', '.txt'))\n",
    "    \n",
    "    # read the image and the txt file\n",
    "    img = cv2.imread(img_path)\n",
    "    try:\n",
    "        with open(txt_path) as f:\n",
    "            lines = f.read().strip().split('\\n')\n",
    "        \n",
    "        for line in lines:\n",
    "            # split the line by space to separate class name and coordinates\n",
    "            class_name, x, y, w, h = line.strip().split()\n",
    "            \n",
    "            label_name = class_names[int(class_name)]\n",
    "            x, y, w, h = float(x), float(y), float(w), float(h)\n",
    "            x1, y1, x2, y2 = int((x-w/2) * 1280), int((y-h/2) * 720), int((x+w/2) * 1280), int((y+h/2) * 720)\n",
    "\n",
    "            #print(x1,y1,x2,y2)\n",
    "            # crop the image using the coordinates\n",
    "            cropped_img = img[y1:y2, x1:x2]\n",
    "\n",
    "            # construct the full path to the save the cropped image\n",
    "            #cropped_img_path = os.path.join(cropped_folder_path, class_name+img_name)\n",
    "            cropped_img_path = os.path.join(cropped_folder_path, f\"{label_name}_{counter}.jpg\")\n",
    "\n",
    "            # save the cropped image\n",
    "            cv2.imwrite(cropped_img_path, cropped_img)\n",
    "\n",
    "    except ValueError:\n",
    "        print(\"value error E$$EQ\")\n",
    "        continue"
   ]
  },
  {
   "cell_type": "code",
   "execution_count": null,
   "metadata": {},
   "outputs": [],
   "source": []
  }
 ],
 "metadata": {
  "kernelspec": {
   "display_name": "Python 3",
   "language": "python",
   "name": "python3"
  },
  "language_info": {
   "codemirror_mode": {
    "name": "ipython",
    "version": 3
   },
   "file_extension": ".py",
   "mimetype": "text/x-python",
   "name": "python",
   "nbconvert_exporter": "python",
   "pygments_lexer": "ipython3",
   "version": "3.8.10 (tags/v3.8.10:3d8993a, May  3 2021, 11:48:03) [MSC v.1928 64 bit (AMD64)]"
  },
  "orig_nbformat": 4,
  "vscode": {
   "interpreter": {
    "hash": "570feb405e2e27c949193ac68f46852414290d515b0ba6e5d90d076ed2284471"
   }
  }
 },
 "nbformat": 4,
 "nbformat_minor": 2
}
