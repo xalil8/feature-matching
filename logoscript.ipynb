{
 "cells": [
  {
   "cell_type": "code",
   "execution_count": 2,
   "metadata": {},
   "outputs": [],
   "source": [
    "import cv2\n",
    "import matplotlib.pyplot as plt\n",
    "import os\n",
    "\n",
    "def matcher(img1, img2):\n",
    "    sift = cv2.SIFT_create() \n",
    "\n",
    "    kp1, des1 = sift.detectAndCompute(img1, None)\n",
    "    kp2, des2 = sift.detectAndCompute(img2, None)\n",
    "\n",
    "    if des1 is None or des2 is None:\n",
    "        return 0\n",
    "\n",
    "    bf = cv2.BFMatcher()\n",
    "\n",
    "    matches = bf.knnMatch(des1, des2, k=2)\n",
    "    \n",
    "\n",
    "    good_matches = []\n",
    "    for match in matches:\n",
    "        if match[0].distance < 0.75 * match[1].distance:\n",
    "            good_matches.append([match[0]])\n",
    "    \n",
    "    \"\"\"if ((len(good_matches) / (len(kp1))) * 100) >70:\n",
    "        img3 = cv2.drawMatchesKnn(img1, kp1,img2, kp2, good_matches, None, flags=cv2.DrawMatchesFlags_NOT_DRAW_SINGLE_POINTS)\n",
    "        plt.imshow(img3),plt.show()\"\"\"\n",
    "\n",
    "    return (len(good_matches) / (len(kp1))) * 100\n",
    "\n",
    "\n",
    "\n"
   ]
  },
  {
   "cell_type": "code",
   "execution_count": 3,
   "metadata": {},
   "outputs": [
    {
     "name": "stdout",
     "output_type": "stream",
     "text": [
      "1 25 83.92857142857143\n",
      "3 23 100.0\n",
      "5 25 77.27272727272727\n",
      "8 17 70.58823529411765\n",
      "17 24 73.58490566037736\n"
     ]
    }
   ],
   "source": [
    "folder = 'akbank'\n",
    "image_files = [os.path.join(folder, f) for f in os.listdir(folder) if f.endswith('.jpg') or f.endswith('.png')]\n",
    "\n",
    "for i in range(len(image_files)):\n",
    "    try:\n",
    "        for j in range(i+1, len(image_files)):\n",
    "            img1 = cv2.imread(image_files[i],cv2.IMREAD_UNCHANGED)\n",
    "            img2 = cv2.imread(image_files[j],cv2.IMREAD_UNCHANGED)\n",
    "            similarity = matcher(img1, img2)\n",
    "            if similarity >70:\n",
    "                print(i,j, similarity)\n",
    "            \n",
    "\n",
    "    except IndexError:\n",
    "        print(\"IndexError at \", i,j)\n",
    "        print(image_files[j])\n",
    "        pass"
   ]
  },
  {
   "cell_type": "code",
   "execution_count": null,
   "metadata": {},
   "outputs": [],
   "source": [
    "folder = 'akbank'\n",
    "image_files = [os.path.join(folder, f) for f in os.listdir(folder) if f.endswith('.jpg') or f.endswith('.png')]\n",
    "\n",
    "for i in range(len(image_files)):\n",
    "    \n",
    "    for j in range(i+1, len(image_files)):\n",
    "\n",
    "        print(i,j)"
   ]
  },
  {
   "cell_type": "code",
   "execution_count": null,
   "metadata": {},
   "outputs": [],
   "source": [
    "print(image_files[23],\"\\n\",image_files[22])"
   ]
  },
  {
   "cell_type": "code",
   "execution_count": null,
   "metadata": {},
   "outputs": [],
   "source": []
  }
 ],
 "metadata": {
  "kernelspec": {
   "display_name": "Python 3",
   "language": "python",
   "name": "python3"
  },
  "language_info": {
   "codemirror_mode": {
    "name": "ipython",
    "version": 3
   },
   "file_extension": ".py",
   "mimetype": "text/x-python",
   "name": "python",
   "nbconvert_exporter": "python",
   "pygments_lexer": "ipython3",
   "version": "3.10.8 (v3.10.8:aaaf517424, Oct 11 2022, 10:14:40) [Clang 13.0.0 (clang-1300.0.29.30)]"
  },
  "orig_nbformat": 4,
  "vscode": {
   "interpreter": {
    "hash": "98590ff4fe04c8543246b2a01debd3de3c5ca9b666f43f1fa87d5110c692004c"
   }
  }
 },
 "nbformat": 4,
 "nbformat_minor": 2
}
