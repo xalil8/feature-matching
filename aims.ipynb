{
 "cells": [
  {
   "attachments": {},
   "cell_type": "markdown",
   "metadata": {},
   "source": [
    "Dosyaların okunması"
   ]
  },
  {
   "cell_type": "code",
   "execution_count": null,
   "metadata": {},
   "outputs": [],
   "source": [
    "# logoları crop edip dosya dosya ayıracak"
   ]
  },
  {
   "cell_type": "code",
   "execution_count": null,
   "metadata": {},
   "outputs": [],
   "source": [
    "# 1\n",
    "# data klasörünü oku (train için kullandığın dosya)\n",
    "# resim isimlerini al os.listdir()\n",
    "# logo_uuid.png # böl\n",
    "# logoya göre böl # dict içerisine logo: [\"logo_uuid.png\", \"logo_uuid.png\", \"logo_uuid.png\"]\n",
    "\n",
    "# !!json var ise oku, json içerisindeki logoları ele!!\n",
    "\n",
    "# resim okuman grecek\n",
    "# modele sor\n",
    "# modelden çıkanları cropla bir listeye at\n",
    "# crop edilen alanın boyutuna\n",
    "# 20 tane logon varsa hepsinin boyutuna sahipsin -> 30x40 32x43, bu boyutların hepsinin ortalamasını alırsın\n",
    "# sonra resimleri bu ortalama göre resize edersin!\n",
    "# aldığın ortalamayı da bir json içerisine kaydedersin\n",
    "\n",
    "# api -> akbank -> size: 80,20 -> dışarıdan akbank fotoğrafı geldi resize 80,20 -> feature matching yap\n",
    "\n",
    "\n",
    "\n",
    "\n",
    "# \n",
    "# klasörü de sen yaratıcaksın kodla ve sınıf isminda olacak\n",
    "# onlarıda sırayla indexine göre logo adı ile beraber akbank_0 akbank_1 olarak akbank klasörüne kaydet\n"
   ]
  },
  {
   "cell_type": "code",
   "execution_count": null,
   "metadata": {},
   "outputs": [],
   "source": [
    "#bu kod train ve validdeki dosyaları tek bir dosyaya, images ve labels olarak topluyor\n",
    "\n",
    "import os \n",
    "import shutil\n",
    "def move_files(src_folder,dst_folder):\n",
    "\n",
    "    # Get a list of all files in the source folder\n",
    "    files = os.listdir(src_folder)\n",
    "\n",
    "    # Iterate over the list of files\n",
    "    for file in files:\n",
    "        # Construct the full path of the file in the source folder\n",
    "        src_path = os.path.join(src_folder, file)\n",
    "        # Construct the full path of the file in the destination folder\n",
    "        dst_path = os.path.join(dst_folder, file)\n",
    "        # Check if the file is a regular file\n",
    "        if os.path.isfile(src_path):\n",
    "            # Move the file to the destination folder\n",
    "            shutil.copy2(src_path, dst_path)"
   ]
  },
  {
   "cell_type": "code",
   "execution_count": null,
   "metadata": {},
   "outputs": [],
   "source": [
    "move_files(\"dataset/train/images/\",\"dataset/whole/images/\")\n",
    "move_files(\"dataset/valid/images/\",\"dataset/whole/images/\")\n",
    "\n",
    "move_files(\"dataset/train/labels/\",\"dataset/whole/labels/\")\n",
    "move_files(\"dataset/valid/labels/\",\"dataset/whole/labels/\")"
   ]
  },
  {
   "cell_type": "code",
   "execution_count": null,
   "metadata": {},
   "outputs": [],
   "source": [
    "\n",
    "\n",
    "import cv2\n",
    "import yaml\n",
    "from itertools import chain\n",
    "\n",
    "def crop_logos():\n",
    "    image_dict = {}\n",
    "    with open(\"dataset/data.yaml\", 'r') as file:\n",
    "        # load the contents of the file into a Python object\n",
    "        data = yaml.load(file, Loader=yaml.FullLoader)\n",
    "\n",
    "    # extract the names from the data\n",
    "    class_yaml = data[\"names\"]\n",
    "\n",
    "    img_folder_path1 = \"dataset/train/images/\"\n",
    "    img_folder_path2 = \"dataset/valid/images/\"\n",
    "\n",
    "    txt_folder_path1 = \"dataset/train/labels/\"\n",
    "    txt_folder_path2 = \"dataset/valid/labels/\"\n",
    "    \n",
    "    cropped_folder_path = \"cropped2/\"\n",
    "    \n",
    "    class_names = class_yaml\n",
    "    counter = 0\n",
    "\n",
    "    # loop through all the images in the image folder\n",
    "    for img_name in chain(os.listdir(img_folder_path1),os.listdir(img_folder_path2)):\n",
    "        \n",
    "\n",
    "        # construct the full path to the image and txt file\n",
    "        img_path = os.path.join(img_folder_path, img_name)\n",
    "        txt_path = os.path.join(txt_folder_path, img_name.replace('.jpg', '.txt'))\n",
    "        \n",
    "        # read the image and the txt file\n",
    "        img = cv2.imread(img_path)\n",
    "\n",
    "        #get image shapes to convert txt coordinates into pixel\n",
    "        height, width = img.shape[0], img.shape[1]\n",
    "        \n",
    "        try:\n",
    "            with open(txt_path) as f:\n",
    "                lines = f.read().strip().split('\\n')\n",
    "            \n",
    "            for line in lines:\n",
    "                coordinate_list = list()\n",
    "                counter+=1\n",
    "                if counter %100==0:\n",
    "                    print(counter, \"images cropped\")\n",
    "                # split the line by space to separate class name and coordinates\n",
    "                #txt file has information like that 12 0.123 0.323 0.110 0.05 == class name, x,y,w,h\n",
    "                class_name, x, y, w, h = line.strip().split()\n",
    "                \n",
    "                label_name = class_names[int(class_name)]\n",
    "                x, y, w, h = float(x), float(y), float(w), float(h)\n",
    "                #x1, y1, x2, y2 = int((x-w/2) * width), int((y-h/2) * height), int((x+w/2) * width), int((y+h/2) * height)\n",
    "                x1, y1, x2, y2 = round((x-w/2) * width), round((y-h/2) * height), round((x+w/2) * width), round((y+h/2) * height)\n",
    "                #print(x1,y1,x2,y2)\n",
    "                # crop the image using the coordinates\n",
    "                cropped_img = img[y1:y2, x1:x2]\n",
    "\n",
    "                # construct the full path to the save the cropped image\n",
    "                cropped_img_path = os.path.join(cropped_folder_path, f\"{label_name}_{counter}.jpg\")\n",
    "    \n",
    "                if label_name in image_dict:\n",
    "                    coordinate_list = image_dict[label_name]\n",
    "                #coordinate_list.append([f\"{label_name}_{counter}.jpg\",x1, y1, x2, y2])\n",
    "                coordinate_list.append([f\"{label_name}_{counter}.jpg\",x2-x1,y2-y1])\n",
    "\n",
    "                image_dict.update({label_name:coordinate_list})\n",
    "                \n",
    "                # save the cropped image\n",
    "                cv2.imwrite(cropped_img_path, cropped_img)\n",
    "                \n",
    "        except ValueError:\n",
    "            print('File is empty. Skipping...')\n",
    "            print(\"problem with file\",txt_path )\n",
    "            continue\n",
    "    return image_dict\n",
    "\n"
   ]
  },
  {
   "cell_type": "code",
   "execution_count": null,
   "metadata": {},
   "outputs": [],
   "source": [
    "cropped_dict  = crop_logos()"
   ]
  },
  {
   "cell_type": "code",
   "execution_count": null,
   "metadata": {},
   "outputs": [],
   "source": [
    "cropped_dict"
   ]
  },
  {
   "cell_type": "code",
   "execution_count": null,
   "metadata": {},
   "outputs": [],
   "source": [
    "cropped_dict[\"trendyol\"]"
   ]
  },
  {
   "cell_type": "code",
   "execution_count": null,
   "metadata": {},
   "outputs": [],
   "source": [
    "\"\"\"from itertools import islice\n",
    "avg_dict = dict()\n",
    "#for label_name in islice(cropped_dict,3):\n",
    "for label_name in cropped_dict:\n",
    "    x1_total, y1_total, x2_total, y2_total = 0, 0, 0, 0\n",
    "    div = len(cropped_dict[label_name])\n",
    "    for element in cropped_dict[label_name]:\n",
    "        x1_total += element[1]\n",
    "        y1_total += element[2]\n",
    "        x2_total += element[3]\n",
    "        y2_total += element[4]\n",
    "    \n",
    "    x1_avg, y1_avg, x2_avg, y2_avg = round(x1_total/div), round(y1_total/div), round(x2_total/div), round(y2_total/div)\n",
    "    avg_dict.update({label_name:[x1_avg, y1_avg, x2_avg, y2_avg]})   \n",
    "   \n",
    "\"\"\"\n",
    "        "
   ]
  },
  {
   "cell_type": "code",
   "execution_count": null,
   "metadata": {},
   "outputs": [],
   "source": [
    "from itertools import islice\n",
    "avg_dict = dict()\n",
    "#for label_name in islice(cropped_dict,3):\n",
    "for label_name in cropped_dict:\n",
    "    x_total, y_total = 0, 0\n",
    "    div = len(cropped_dict[label_name])\n",
    "    for element in cropped_dict[label_name]:\n",
    "        x_total += element[1]\n",
    "        y_total += element[2]\n",
    "\n",
    "    \n",
    "    x_avg, y_avg = round(x_total/div), round(y_total/div)\n",
    "    avg_dict.update({label_name:[x_avg, y_avg]})   \n",
    "   \n",
    "\n",
    "        "
   ]
  },
  {
   "cell_type": "code",
   "execution_count": null,
   "metadata": {},
   "outputs": [],
   "source": [
    "avg_dict"
   ]
  },
  {
   "cell_type": "code",
   "execution_count": null,
   "metadata": {},
   "outputs": [],
   "source": [
    "folder_path = \"cropped2/\" \n",
    "resized_path = \"reshaped/\"\n",
    "counter = 0\n",
    "for label_name in cropped_dict:\n",
    "    for element in cropped_dict[label_name]:\n",
    "\n",
    "        avg_size = tuple(avg_dict[label_name])\n",
    "        img_path = os.path.join(folder_path,element[0])\n",
    "        \n",
    "        img = cv2.imread(img_path)\n",
    "        img_resized = cv2.resize(img, avg_size)\n",
    "        cv2.imwrite(resized_path+element[0], img_resized)\n",
    "        counter+=1\n",
    "        if counter%100 ==0:\n",
    "            print(counter)"
   ]
  },
  {
   "cell_type": "code",
   "execution_count": null,
   "metadata": {},
   "outputs": [],
   "source": [
    "avg_dict[\"trendyol\"]"
   ]
  },
  {
   "cell_type": "code",
   "execution_count": null,
   "metadata": {},
   "outputs": [],
   "source": [
    "img = cv2.imread(\"C:\\Users\\halil\\Desktop\\feature-matching\\a101-logo_1.jpg\")\n",
    "img_resized = cv2.resize(img, avg_size)\n",
    "cv2.imwrite(resized_path+element[0], img)"
   ]
  }
 ],
 "metadata": {
  "kernelspec": {
   "display_name": "Python 3",
   "language": "python",
   "name": "python3"
  },
  "language_info": {
   "codemirror_mode": {
    "name": "ipython",
    "version": 3
   },
   "file_extension": ".py",
   "mimetype": "text/x-python",
   "name": "python",
   "nbconvert_exporter": "python",
   "pygments_lexer": "ipython3",
   "version": "3.8.10 (tags/v3.8.10:3d8993a, May  3 2021, 11:48:03) [MSC v.1928 64 bit (AMD64)]"
  },
  "orig_nbformat": 4,
  "vscode": {
   "interpreter": {
    "hash": "570feb405e2e27c949193ac68f46852414290d515b0ba6e5d90d076ed2284471"
   }
  }
 },
 "nbformat": 4,
 "nbformat_minor": 2
}
