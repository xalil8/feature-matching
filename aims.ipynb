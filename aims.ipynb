{
 "cells": [
  {
   "attachments": {},
   "cell_type": "markdown",
   "metadata": {},
   "source": [
    "Dosyaların okunması"
   ]
  },
  {
   "cell_type": "code",
   "execution_count": 1,
   "metadata": {},
   "outputs": [],
   "source": [
    "# logoları crop edip dosya dosya ayıracak"
   ]
  },
  {
   "cell_type": "code",
   "execution_count": null,
   "metadata": {},
   "outputs": [],
   "source": [
    "# 1\n",
    "# data klasörünü oku (train için kullandığın dosya)\n",
    "# resim isimlerini al os.listdir()\n",
    "# logo_uuid.png # böl\n",
    "# logoya göre böl # dict içerisine logo: [\"logo_uuid.png\", \"logo_uuid.png\", \"logo_uuid.png\"]\n",
    "\n",
    "# !!json var ise oku, json içerisindeki logoları ele!!\n",
    "\n",
    "# resim okuman grecek\n",
    "# modele sor\n",
    "# modelden çıkanları cropla bir listeye at\n",
    "# crop edilen alanın boyutuna\n",
    "# 20 tane logon varsa hepsinin boyutuna sahipsin -> 30x40 32x43, bu boyutların hepsinin ortalamasını alırsın\n",
    "# sonra resimleri bu ortalama göre resize edersin!\n",
    "# aldığın ortalamayı da bir json içerisine kaydedersin\n",
    "\n",
    "# api -> akbank -> size: 80,20 -> dışarıdan akbank fotoğrafı geldi resize 80,20 -> feature matching yap\n",
    "\n",
    "\n",
    "\n",
    "\n",
    "# \n",
    "# klasörü de sen yaratıcaksın kodla ve sınıf isminda olacak\n",
    "# onlarıda sırayla indexine göre logo adı ile beraber akbank_0 akbank_1 olarak akbank klasörüne kaydet\n"
   ]
  },
  {
   "cell_type": "code",
   "execution_count": null,
   "metadata": {},
   "outputs": [],
   "source": [
    "def cropped_into_dict():   "
   ]
  },
  {
   "cell_type": "code",
   "execution_count": null,
   "metadata": {},
   "outputs": [],
   "source": [
    "def crooped_average():\n",
    "    \n",
    "    resimlleri classlarla okuyup class ort crop value bul\n",
    "\n",
    "    def ort_class_crop()\n",
    "\n",
    "    \n",
    "    def reshape all class by crooped_average\n",
    "\n",
    "\n",
    "    class icinde yuzde kac similarity var bunu bul \n",
    "    \n"
   ]
  },
  {
   "cell_type": "code",
   "execution_count": 1,
   "metadata": {},
   "outputs": [],
   "source": [
    "import cv2\n",
    "import os \n",
    "import yaml\n",
    "\n",
    "def crop_logos():\n",
    "\n",
    "    with open(\"dataset/data.yaml\", 'r') as file:\n",
    "        # load the contents of the file into a Python object\n",
    "        data = yaml.load(file, Loader=yaml.FullLoader)\n",
    "\n",
    "    # extract the names from the data\n",
    "    class_yaml = data[\"names\"]\n",
    "\n",
    "\n",
    "    img_folder_path = \"dataset/train/images/\"\n",
    "    txt_folder_path = \"dataset/train/labels/\"\n",
    "    cropped_folder_path = \"cropped/\"\n",
    "    \n",
    "    class_names = class_yaml\n",
    "    counter = 0\n",
    "\n",
    "    # loop through all the images in the image folder\n",
    "    for img_name in os.listdir(img_folder_path):\n",
    "        counter+=1\n",
    "        print(counter)\n",
    "        # construct the full path to the image and txt file\n",
    "        img_path = os.path.join(img_folder_path, img_name)\n",
    "        txt_path = os.path.join(txt_folder_path, img_name.replace('.jpg', '.txt'))\n",
    "        \n",
    "        # read the image and the txt file\n",
    "        img = cv2.imread(img_path)\n",
    "        try:\n",
    "            with open(txt_path) as f:\n",
    "                lines = f.read().strip().split('\\n')\n",
    "            \n",
    "            for line in lines:\n",
    "                # split the line by space to separate class name and coordinates\n",
    "                class_name, x, y, w, h = line.strip().split()\n",
    "                \n",
    "                label_name = class_names[int(class_name)]\n",
    "                x, y, w, h = float(x), float(y), float(w), float(h)\n",
    "                x1, y1, x2, y2 = int((x-w/2) * 1280), int((y-h/2) * 720), int((x+w/2) * 1280), int((y+h/2) * 720)\n",
    "\n",
    "                #print(x1,y1,x2,y2)\n",
    "                # crop the image using the coordinates\n",
    "                cropped_img = img[y1:y2, x1:x2]\n",
    "\n",
    "                # construct the full path to the save the cropped image\n",
    "                cropped_img_path = os.path.join(cropped_folder_path, f\"{label_name}_{counter}.jpg\")\n",
    "\n",
    "                # save the cropped image\n",
    "                cv2.imwrite(cropped_img_path, cropped_img)\n",
    "\n",
    "        except ValueError:\n",
    "            print(\"value error E$$EQ\")\n",
    "            continue"
   ]
  },
  {
   "cell_type": "code",
   "execution_count": 2,
   "metadata": {},
   "outputs": [
    {
     "name": "stdout",
     "output_type": "stream",
     "text": [
      "1\n"
     ]
    },
    {
     "ename": "FileNotFoundError",
     "evalue": "[Errno 2] No such file or directory: 'dataset/labels/images/a101_000_png.rf.7aa86e355974cba4057e3fae6d210701.txt'",
     "output_type": "error",
     "traceback": [
      "\u001b[1;31m---------------------------------------------------------------------------\u001b[0m",
      "\u001b[1;31mFileNotFoundError\u001b[0m                         Traceback (most recent call last)",
      "Cell \u001b[1;32mIn [2], line 1\u001b[0m\n\u001b[1;32m----> 1\u001b[0m crop_logos()\n",
      "Cell \u001b[1;32mIn [1], line 32\u001b[0m, in \u001b[0;36mcrop_logos\u001b[1;34m()\u001b[0m\n\u001b[0;32m     30\u001b[0m img \u001b[39m=\u001b[39m cv2\u001b[39m.\u001b[39mimread(img_path)\n\u001b[0;32m     31\u001b[0m \u001b[39mtry\u001b[39;00m:\n\u001b[1;32m---> 32\u001b[0m     \u001b[39mwith\u001b[39;00m \u001b[39mopen\u001b[39;49m(txt_path) \u001b[39mas\u001b[39;00m f:\n\u001b[0;32m     33\u001b[0m         lines \u001b[39m=\u001b[39m f\u001b[39m.\u001b[39mread()\u001b[39m.\u001b[39mstrip()\u001b[39m.\u001b[39msplit(\u001b[39m'\u001b[39m\u001b[39m\\n\u001b[39;00m\u001b[39m'\u001b[39m)\n\u001b[0;32m     35\u001b[0m     \u001b[39mfor\u001b[39;00m line \u001b[39min\u001b[39;00m lines:\n\u001b[0;32m     36\u001b[0m         \u001b[39m# split the line by space to separate class name and coordinates\u001b[39;00m\n",
      "\u001b[1;31mFileNotFoundError\u001b[0m: [Errno 2] No such file or directory: 'dataset/labels/images/a101_000_png.rf.7aa86e355974cba4057e3fae6d210701.txt'"
     ]
    }
   ],
   "source": [
    "crop_logos()"
   ]
  },
  {
   "cell_type": "code",
   "execution_count": null,
   "metadata": {},
   "outputs": [],
   "source": []
  }
 ],
 "metadata": {
  "kernelspec": {
   "display_name": "Python 3",
   "language": "python",
   "name": "python3"
  },
  "language_info": {
   "codemirror_mode": {
    "name": "ipython",
    "version": 3
   },
   "file_extension": ".py",
   "mimetype": "text/x-python",
   "name": "python",
   "nbconvert_exporter": "python",
   "pygments_lexer": "ipython3",
   "version": "3.8.10"
  },
  "orig_nbformat": 4,
  "vscode": {
   "interpreter": {
    "hash": "570feb405e2e27c949193ac68f46852414290d515b0ba6e5d90d076ed2284471"
   }
  }
 },
 "nbformat": 4,
 "nbformat_minor": 2
}
