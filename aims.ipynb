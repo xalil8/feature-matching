{
 "cells": [
  {
   "attachments": {},
   "cell_type": "markdown",
   "metadata": {},
   "source": [
    "Dosyaların okunması"
   ]
  },
  {
   "cell_type": "code",
   "execution_count": 1,
   "metadata": {},
   "outputs": [],
   "source": [
    "# logoları crop edip dosya dosya ayıracak"
   ]
  },
  {
   "cell_type": "code",
   "execution_count": null,
   "metadata": {},
   "outputs": [],
   "source": [
    "# 1\n",
    "# data klasörünü oku (train için kullandığın dosya)\n",
    "# resim isimlerini al os.listdir()\n",
    "# logo_uuid.png # böl\n",
    "# logoya göre böl # dict içerisine logo: [\"logo_uuid.png\", \"logo_uuid.png\", \"logo_uuid.png\"]\n",
    "\n",
    "# !!json var ise oku, json içerisindeki logoları ele!!\n",
    "\n",
    "# resim okuman grecek\n",
    "# modele sor\n",
    "# modelden çıkanları cropla bir listeye at\n",
    "# crop edilen alanın boyutuna\n",
    "# 20 tane logon varsa hepsinin boyutuna sahipsin -> 30x40 32x43, bu boyutların hepsinin ortalamasını alırsın\n",
    "# sonra resimleri bu ortalama göre resize edersin!\n",
    "# aldığın ortalamayı da bir json içerisine kaydedersin\n",
    "\n",
    "# api -> akbank -> size: 80,20 -> dışarıdan akbank fotoğrafı geldi resize 80,20 -> feature matching yap\n",
    "\n",
    "\n",
    "\n",
    "\n",
    "# \n",
    "# klasörü de sen yaratıcaksın kodla ve sınıf isminda olacak\n",
    "# onlarıda sırayla indexine göre logo adı ile beraber akbank_0 akbank_1 olarak akbank klasörüne kaydet\n"
   ]
  },
  {
   "cell_type": "code",
   "execution_count": null,
   "metadata": {},
   "outputs": [],
   "source": [
    "def cropped_into_dict():   "
   ]
  },
  {
   "cell_type": "code",
   "execution_count": null,
   "metadata": {},
   "outputs": [],
   "source": [
    "def crooped_average():\n",
    "    \n",
    "    resimlleri classlarla okuyup class ort crop value bul\n",
    "\n",
    "    def ort_class_crop()\n",
    "\n",
    "    \n",
    "    def reshape all class by crooped_average\n",
    "\n",
    "\n",
    "    class icinde yuzde kac similarity var bunu bul \n",
    "    \n"
   ]
  },
  {
   "cell_type": "code",
   "execution_count": null,
   "metadata": {},
   "outputs": [],
   "source": []
  },
  {
   "cell_type": "code",
   "execution_count": null,
   "metadata": {},
   "outputs": [],
   "source": []
  },
  {
   "cell_type": "code",
   "execution_count": 1,
   "metadata": {},
   "outputs": [],
   "source": [
    "import os \n",
    "import shutil\n",
    "def move_files(src_folder,dst_folder):\n",
    "\n",
    "    # Get a list of all files in the source folder\n",
    "    files = os.listdir(src_folder)\n",
    "\n",
    "    # Iterate over the list of files\n",
    "    for file in files:\n",
    "        # Construct the full path of the file in the source folder\n",
    "        src_path = os.path.join(src_folder, file)\n",
    "        # Construct the full path of the file in the destination folder\n",
    "        dst_path = os.path.join(dst_folder, file)\n",
    "        # Check if the file is a regular file\n",
    "        if os.path.isfile(src_path):\n",
    "            # Move the file to the destination folder\n",
    "            shutil.copy2(src_path, dst_path)"
   ]
  },
  {
   "cell_type": "code",
   "execution_count": 3,
   "metadata": {},
   "outputs": [],
   "source": [
    "move_files(\"dataset/train/images/\",\"dataset/whole/images/\")\n",
    "move_files(\"dataset/valid/images/\",\"dataset/whole/images/\")\n",
    "\n",
    "move_files(\"dataset/train/labels/\",\"dataset/whole/labels/\")\n",
    "move_files(\"dataset/valid/labels/\",\"dataset/whole/labels/\")"
   ]
  },
  {
   "cell_type": "code",
   "execution_count": 5,
   "metadata": {},
   "outputs": [],
   "source": [
    "import cv2\n",
    "import yaml\n",
    "\n",
    "\n",
    "def crop_logos():\n",
    "\n",
    "    with open(\"dataset/data.yaml\", 'r') as file:\n",
    "        # load the contents of the file into a Python object\n",
    "        data = yaml.load(file, Loader=yaml.FullLoader)\n",
    "\n",
    "    # extract the names from the data\n",
    "    class_yaml = data[\"names\"]\n",
    "\n",
    "    img_folder_path = \"dataset/whole/images/\"\n",
    "    txt_folder_path = \"dataset/whole/labels/\"\n",
    "    \n",
    "    cropped_folder_path = \"cropped/\"\n",
    "    \n",
    "    class_names = class_yaml\n",
    "    counter = 0\n",
    "\n",
    "    # loop through all the images in the image folder\n",
    "    for img_name in os.listdir(img_folder_path):\n",
    "        \n",
    "\n",
    "        # construct the full path to the image and txt file\n",
    "        img_path = os.path.join(img_folder_path, img_name)\n",
    "        txt_path = os.path.join(txt_folder_path, img_name.replace('.jpg', '.txt'))\n",
    "        \n",
    "        # read the image and the txt file\n",
    "        img = cv2.imread(img_path)\n",
    "\n",
    "        #get image shapes to convert txt coordinates into pixel\n",
    "        height, width = img.shape[0], img.shape[1]\n",
    "\n",
    "        try:\n",
    "            with open(txt_path) as f:\n",
    "                lines = f.read().strip().split('\\n')\n",
    "            \n",
    "            for line in lines:\n",
    "                counter+=1\n",
    "                if counter %100==0:\n",
    "                    print(counter, \"images cropped\")\n",
    "                # split the line by space to separate class name and coordinates\n",
    "                #txt file has information like that 12 0.123 0.323 0.110 0.05 == class name, x,y,w,h\n",
    "                class_name, x, y, w, h = line.strip().split()\n",
    "                \n",
    "                label_name = class_names[int(class_name)]\n",
    "                x, y, w, h = float(x), float(y), float(w), float(h)\n",
    "                x1, y1, x2, y2 = int((x-w/2) * width), int((y-h/2) * height), int((x+w/2) * width), int((y+h/2) * height)\n",
    "\n",
    "                #print(x1,y1,x2,y2)\n",
    "                # crop the image using the coordinates\n",
    "                cropped_img = img[y1:y2, x1:x2]\n",
    "\n",
    "                # construct the full path to the save the cropped image\n",
    "                cropped_img_path = os.path.join(cropped_folder_path, f\"{label_name}_{counter}.jpg\")\n",
    "\n",
    "                # save the cropped image\n",
    "                cv2.imwrite(cropped_img_path, cropped_img)\n",
    "                \n",
    "        except ValueError:\n",
    "            print('File is empty. Skipping...')\n",
    "            print(\"problem with file\",txt_path )\n",
    "            continue\n",
    "\n"
   ]
  },
  {
   "cell_type": "code",
   "execution_count": null,
   "metadata": {},
   "outputs": [],
   "source": [
    "crop_logos()"
   ]
  },
  {
   "cell_type": "code",
   "execution_count": null,
   "metadata": {},
   "outputs": [],
   "source": []
  }
 ],
 "metadata": {
  "kernelspec": {
   "display_name": "Python 3",
   "language": "python",
   "name": "python3"
  },
  "language_info": {
   "codemirror_mode": {
    "name": "ipython",
    "version": 3
   },
   "file_extension": ".py",
   "mimetype": "text/x-python",
   "name": "python",
   "nbconvert_exporter": "python",
   "pygments_lexer": "ipython3",
   "version": "3.8.10"
  },
  "orig_nbformat": 4,
  "vscode": {
   "interpreter": {
    "hash": "570feb405e2e27c949193ac68f46852414290d515b0ba6e5d90d076ed2284471"
   }
  }
 },
 "nbformat": 4,
 "nbformat_minor": 2
}
